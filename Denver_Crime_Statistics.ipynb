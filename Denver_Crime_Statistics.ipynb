{
 "cells": [
  {
   "cell_type": "markdown",
   "metadata": {},
   "source": [
    "# This program gives insights about the crime statistics of city of Denver. One can find out which districts have higher incidents of particular type of crime and also what times and what months are the most dangerous in terms of crime "
   ]
  },
  {
   "cell_type": "code",
   "execution_count": 5,
   "metadata": {},
   "outputs": [],
   "source": [
    "##Importing modules and reading the file \n",
    "\n",
    "\n",
    "import pandas as pd\n",
    "import numpy as np\n",
    "import matplotlib.pyplot as plt\n",
    "from datetime import datetime\n",
    "from termcolor import colored, cprint\n",
    "#import geopandas as gpd\n",
    "\n",
    "crimes = pd.read_csv(\"A:/Business Analytics/Python/Class/crime.csv\")\n"
   ]
  },
  {
   "cell_type": "markdown",
   "metadata": {},
   "source": [
    "# Function for chekcing the district wise stats for a particular crime"
   ]
  },
  {
   "cell_type": "code",
   "execution_count": 6,
   "metadata": {},
   "outputs": [],
   "source": [
    "#checking for theft cases\n",
    "def theft():\n",
    "    crime_incidents = crimes[crimes.OFFENSE_TYPE_ID.str.contains('theft',case=False)]\n",
    "    crime_incidents_df = pd.DataFrame(crime_incidents)\n",
    "   \n",
    "    #Crime comparison of theft by districts \n",
    "    districts = crime_incidents.DISTRICT_ID.unique()\n",
    "    districts = np.sort(districts)\n",
    "    #storing the number of theft incident per district in variables\n",
    "    district_wise_crime = np.zeros(7,dtype = int)\n",
    "    \n",
    "    \n",
    "    #selecting disrtrict wise crime data\n",
    "    crime_incidents_districts = np.array(crime_incidents_df.loc[:,[\"DISTRICT_ID\"]])\n",
    "    \n",
    "    #collecting instances of that crime per district\n",
    "    for i in range(0,len(crime_incidents_districts)):\n",
    "        for j in range(0,len(districts)):\n",
    "            district_number = j+1\n",
    "            if(crime_incidents_districts[i] == district_number):\n",
    "                district_wise_crime[j]+=1\n",
    "    \n",
    "  \n",
    "    ##creating a bar graph for theft crime incidents \n",
    "    \n",
    "    \n",
    "    #creating the names of districts in y_pos to be used in graph \n",
    "    y_pos = []\n",
    "    \n",
    "    for i in range (1,(len(districts)+1)):\n",
    "        area = \"District \"+str(i)\n",
    "        y_pos = np.append(y_pos,area)\n",
    "    \n",
    "    slices_hours = district_wise_crime\n",
    "    \n",
    "    colors = ['r', 'g','b','y','c','m','lightcoral']\n",
    "    plt.pie(slices_hours, labels=y_pos, colors=colors, startangle=90, autopct='%1.1f%%', shadow=True)\n",
    "    plt.show()\n",
    "\n"
   ]
  },
  {
   "cell_type": "markdown",
   "metadata": {},
   "source": [
    "# Function for finding the most dangerous time to be outside in a day "
   ]
  },
  {
   "cell_type": "code",
   "execution_count": 7,
   "metadata": {},
   "outputs": [],
   "source": [
    "def dangerous_time():\n",
    "    ###Most Dangerous time to be outside ####\n",
    "    \n",
    "    #getting important type specific information regarding the crime\n",
    "    crime_info = crimes.loc[:,[\"INCIDENT_ID\",\"OFFENSE_TYPE_ID\",\"FIRST_OCCURRENCE_DATE\"]]\n",
    "    #time information of various crimes stored in an array\n",
    "    time = np.array(crime_info['FIRST_OCCURRENCE_DATE'])\n",
    "     \n",
    "     #creating time values for comparison with the time of crime\n",
    "    timestamp_date = pd.to_datetime(time, infer_datetime_format=True)\n",
    "    \n",
    "    \n",
    "    \n",
    "    ##creating a time_range array to for comparing the time data\n",
    "    time_range = np.array(datetime.strptime(\"00:00:00\",\"%H:%M:%S\").time())\n",
    "    \n",
    "    for i in range (1,24):\n",
    "        x = str(i)+\":00:00\"\n",
    "        y= datetime.strptime(x,\"%H:%M:%S\").time()\n",
    "        time_range = np.append(time_range,y)\n",
    "    \n",
    "    #interval named array to store number of crime incidents in a time range\n",
    "\n",
    "    intervals = np.zeros(24, dtype = int)\n",
    "     \n",
    "    \n",
    "    #counting the interval when incident ouccured and storing them to the interval array\n",
    "    for i in range(len(timestamp_date)):\n",
    "        for j in range(1,len(time_range)):\n",
    "            if(time_range[j-1] <=timestamp_date[i].time() < time_range[j] ):  \n",
    "                #exclude the upper limit include the lower one\n",
    "                intervals[j] = intervals[j]+1\n",
    "    \n",
    "\n",
    "    ##Plotting a bar graph for representing the incidents of crime as per time##\n",
    "    \n",
    "    #creating an array for graphical representation of time intervals\n",
    "    y_pos = []\n",
    "\n",
    "    y_pos = np.append(y_pos,\"00:00-1:00\")\n",
    "\n",
    "\n",
    "    for i in range (1,24):\n",
    "        date = str(i)+\":00-\"+str(i+1)+\":00\"\n",
    "        y_pos = np.append(y_pos,date)\n",
    "    \n",
    "    \n",
    "    plt.bar(y_pos,intervals, align='center', alpha= 0.5)\n",
    "    \n",
    "    plt.ylabel('Crime incidents ')\n",
    "    plt.xlabel('Timings ')\n",
    "    plt.xticks(rotation=75)\n",
    "    \n",
    "    plt.show()\n",
    "    \n",
    "    print(\"The most dangerous time to be out is between : \",y_pos[(intervals.argmax())],\"hrs\")\n",
    "    \n",
    "    "
   ]
  },
  {
   "cell_type": "markdown",
   "metadata": {},
   "source": [
    "# Function for finding the most dangerous month in terms of crime "
   ]
  },
  {
   "cell_type": "code",
   "execution_count": 8,
   "metadata": {},
   "outputs": [],
   "source": [
    "def dangerous_month():\n",
    "    \n",
    "    ##the most dangerous month as for crimes##\n",
    "    #getting important type specific information regarding the crime\n",
    "    crime_info = crimes.loc[:,[\"INCIDENT_ID\",\"OFFENSE_TYPE_ID\",\"FIRST_OCCURRENCE_DATE\"]]\n",
    "    #crime_info_new = crime_info['Crime_Time']\n",
    "    \n",
    "    #time and date information of various crimes stored in an array\n",
    "    time = np.array(crime_info['FIRST_OCCURRENCE_DATE'])\n",
    "    \n",
    "    timestamp_date = pd.to_datetime(time, infer_datetime_format=True)\n",
    "    #creating an array to store the crime incidents for months##\n",
    "    months = np.zeros(12, dtype = int )\n",
    "    ##checking the month for each crime incident and updating the months array##\n",
    "    for i in range(len(timestamp_date)):\n",
    "        for j in range(1,len(months)+1):\n",
    "            if(timestamp_date[i].month == j):\n",
    "                months[j-1]+=1\n",
    "                \n",
    "    \n",
    "    ##creating a bar graph for crime incidents as per months##\n",
    "    y_pos = [\"Jan\",\"Feb\",\"Mar\",\"April\",\"May\",\"June\",\"July\",\"August\",\"Sept\",\"Oct\",\"Nov\",\"Dec\"]\n",
    "    #print(timestamp_date_rng[3].month() )\n",
    "\n",
    "    plt.bar(y_pos,months, align='center', alpha= 0.5)\n",
    "\n",
    "    plt.ylabel('Crime incidents ')\n",
    "    plt.xlabel('Months ')\n",
    "    plt.xticks(rotation=45)\n",
    "    plt.show()\n",
    "    print(\"The most dangerous month is : \",y_pos[(months.argmax())])\n",
    "    #Turns out August is the most dangerous month, closely followed by July and September\n",
    "\n"
   ]
  },
  {
   "cell_type": "markdown",
   "metadata": {},
   "source": [
    "# Main function to make the function call  "
   ]
  },
  {
   "cell_type": "code",
   "execution_count": 9,
   "metadata": {},
   "outputs": [
    {
     "name": "stdout",
     "output_type": "stream",
     "text": [
      "Option 1 : Districts as per cases of theft \n",
      "Option 2 : Most Dangerous time to be out \n",
      "Option 3 : Most dangerous month as per crime statistics \n",
      "\n",
      "Enter the option or write exit to exit : 1\n",
      "Option selected :1\n"
     ]
    },
    {
     "data": {
      "image/png": "[encoded data removed]",
      "text/plain": [
       "<Figure size 432x288 with 1 Axes>"
      ]
     },
     "metadata": {},
     "output_type": "display_data"
    },
    {
     "name": "stdout",
     "output_type": "stream",
     "text": [
      "Option 1 : Districts as per cases of theft \n",
      "Option 2 : Most Dangerous time to be out \n",
      "Option 3 : Most dangerous month as per crime statistics \n",
      "\n",
      "Enter the option or write exit to exit : 2\n",
      "Option selected :2\n"
     ]
    },
    {
     "data": {
      "image/png": "[encoded data removed]",
      "text/plain": [
       "<Figure size 432x288 with 1 Axes>"
      ]
     },
     "metadata": {
      "needs_background": "light"
     },
     "output_type": "display_data"
    },
    {
     "name": "stdout",
     "output_type": "stream",
     "text": [
      "The most dangerous time to be out is between :  17:00-18:00 hrs\n",
      "Option 1 : Districts as per cases of theft \n",
      "Option 2 : Most Dangerous time to be out \n",
      "Option 3 : Most dangerous month as per crime statistics \n",
      "\n",
      "Enter the option or write exit to exit : 3\n",
      "Option selected :3\n"
     ]
    },
    {
     "data": {
      "image/png": "[encoded data removed]",
      "text/plain": [
       "<Figure size 432x288 with 1 Axes>"
      ]
     },
     "metadata": {
      "needs_background": "light"
     },
     "output_type": "display_data"
    },
    {
     "name": "stdout",
     "output_type": "stream",
     "text": [
      "The most dangerous month is :  August\n",
      "Option 1 : Districts as per cases of theft \n",
      "Option 2 : Most Dangerous time to be out \n",
      "Option 3 : Most dangerous month as per crime statistics \n",
      "\n",
      "Enter the option or write exit to exit : yuyu\n",
      "Option selected :yuyu\n",
      "\u001b[41m\u001b[32m\u001b[1mINVALID OPTION SELECTED !!!\u001b[0m\u001b[0m\n",
      "Option 1 : Districts as per cases of theft \n",
      "Option 2 : Most Dangerous time to be out \n",
      "Option 3 : Most dangerous month as per crime statistics \n",
      "\n",
      "Enter the option or write exit to exit : 0000\n",
      "Option selected :0000\n",
      "\u001b[41m\u001b[32m\u001b[1mINVALID OPTION SELECTED !!!\u001b[0m\u001b[0m\n",
      "Option 1 : Districts as per cases of theft \n",
      "Option 2 : Most Dangerous time to be out \n",
      "Option 3 : Most dangerous month as per crime statistics \n",
      "\n",
      "Enter the option or write exit to exit : ggg\n",
      "Option selected :ggg\n",
      "\u001b[41m\u001b[32m\u001b[1mINVALID OPTION SELECTED !!!\u001b[0m\u001b[0m\n",
      "Option 1 : Districts as per cases of theft \n",
      "Option 2 : Most Dangerous time to be out \n",
      "Option 3 : Most dangerous month as per crime statistics \n",
      "\n",
      "Enter the option or write exit to exit : exit\n",
      "Option selected :exit\n"
     ]
    }
   ],
   "source": [
    "inp = \"\"\n",
    "\n",
    "while (inp != \"exit\"):\n",
    "    print(\n",
    "    \"Option 1 : Districts as per cases of theft \\n\"\n",
    "    \"Option 2 : Most Dangerous time to be out \\n\"\n",
    "    \"Option 3 : Most dangerous month as per crime statistics \\n\"\n",
    "    )\n",
    "    inp = np.array(input(\"Enter the option or write exit to exit : \"))\n",
    "    print(\"Option selected :\" + str(inp))\n",
    "    allowed = ['1','2','3','exit']\n",
    "    \n",
    "    if(inp.__contains__(allowed)):\n",
    "        if inp == \"1\":\n",
    "            theft()\n",
    "        if inp == \"2\":\n",
    "            dangerous_time()\n",
    "        if inp == \"3\":\n",
    "            dangerous_month()\n",
    "    \n",
    "    if(not(inp.__contains__(allowed))):\n",
    "        warn = colored(\"INVALID OPTION SELECTED !!!\",attrs=['bold'])\n",
    "        cprint(warn,'green','on_red')\n",
    "        \n",
    "        "
   ]
  },
  {
   "cell_type": "code",
   "execution_count": null,
   "metadata": {},
   "outputs": [],
   "source": []
  }
 ],
 "metadata": {
  "kernelspec": {
   "display_name": "Python 3",
   "language": "python",
   "name": "python3"
  },
  "language_info": {
   "codemirror_mode": {
    "name": "ipython",
    "version": 3
   },
   "file_extension": ".py",
   "mimetype": "text/x-python",
   "name": "python",
   "nbconvert_exporter": "python",
   "pygments_lexer": "ipython3",
   "version": "3.7.4"
  }
 },
 "nbformat": 4,
 "nbformat_minor": 2
}
